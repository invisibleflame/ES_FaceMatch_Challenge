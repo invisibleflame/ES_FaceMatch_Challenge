{
  "nbformat": 4,
  "nbformat_minor": 0,
  "metadata": {
    "colab": {
      "name": "Face Match Challenge",
      "provenance": [],
      "collapsed_sections": []
    },
    "kernelspec": {
      "display_name": "Python 3",
      "name": "python3"
    },
    "language_info": {
      "name": "python"
    },
    "accelerator": "GPU"
  },
  "cells": [
    {
      "cell_type": "markdown",
      "metadata": {
        "id": "atIjiRKSWQDS"
      },
      "source": [
        "**Face Alignment**"
      ]
    },
    {
      "cell_type": "code",
      "metadata": {
        "colab": {
          "base_uri": "https://localhost:8080/"
        },
        "id": "2U2jp86NYiCW",
        "outputId": "f1085c3d-741a-447c-e24f-bc6c8a728b6f"
      },
      "source": [
        "from google.colab import drive\n",
        "drive.mount('/content/drive')"
      ],
      "execution_count": 1,
      "outputs": [
        {
          "output_type": "stream",
          "name": "stdout",
          "text": [
            "Mounted at /content/drive\n"
          ]
        }
      ]
    },
    {
      "cell_type": "code",
      "metadata": {
        "colab": {
          "base_uri": "https://localhost:8080/"
        },
        "id": "efHoJC7cTnDj",
        "outputId": "8345a178-c43a-4fa0-b2aa-320c812816c1"
      },
      "source": [
        "!git clone https://github.com/davisking/dlib-models"
      ],
      "execution_count": null,
      "outputs": [
        {
          "output_type": "stream",
          "name": "stdout",
          "text": [
            "Cloning into 'dlib-models'...\n",
            "remote: Enumerating objects: 186, done.\u001b[K\n",
            "remote: Counting objects: 100% (32/32), done.\u001b[K\n",
            "remote: Compressing objects: 100% (31/31), done.\u001b[K\n",
            "remote: Total 186 (delta 17), reused 11 (delta 1), pack-reused 154\u001b[K\n",
            "Receiving objects: 100% (186/186), 408.51 MiB | 37.71 MiB/s, done.\n",
            "Resolving deltas: 100% (89/89), done.\n"
          ]
        }
      ]
    },
    {
      "cell_type": "code",
      "metadata": {
        "id": "QoSu-5AXT7iv"
      },
      "source": [
        "!bzip2 -d '/content/dlib-models/shape_predictor_5_face_landmarks.dat.bz2'"
      ],
      "execution_count": null,
      "outputs": []
    },
    {
      "cell_type": "code",
      "metadata": {
        "colab": {
          "base_uri": "https://localhost:8080/"
        },
        "id": "diXt46i_SMsK",
        "outputId": "e2c67350-39eb-43ea-98c1-a99b19689bd1"
      },
      "source": [
        "# install dlib (will take 10 or more minutes)\n",
        "!apt update\n",
        "!apt install -y cmake\n",
        "!pip install dlib"
      ],
      "execution_count": null,
      "outputs": [
        {
          "output_type": "stream",
          "name": "stdout",
          "text": [
            "\u001b[33m\r0% [Working]\u001b[0m\r            \rGet:1 https://cloud.r-project.org/bin/linux/ubuntu bionic-cran40/ InRelease [3,626 B]\n",
            "Ign:2 https://developer.download.nvidia.com/compute/cuda/repos/ubuntu1804/x86_64  InRelease\n",
            "Get:3 http://security.ubuntu.com/ubuntu bionic-security InRelease [88.7 kB]\n",
            "Ign:4 https://developer.download.nvidia.com/compute/machine-learning/repos/ubuntu1804/x86_64  InRelease\n",
            "Get:5 http://ppa.launchpad.net/c2d4u.team/c2d4u4.0+/ubuntu bionic InRelease [15.9 kB]\n",
            "Hit:6 https://developer.download.nvidia.com/compute/cuda/repos/ubuntu1804/x86_64  Release\n",
            "Hit:7 https://developer.download.nvidia.com/compute/machine-learning/repos/ubuntu1804/x86_64  Release\n",
            "Hit:8 http://archive.ubuntu.com/ubuntu bionic InRelease\n",
            "Get:9 http://archive.ubuntu.com/ubuntu bionic-updates InRelease [88.7 kB]\n",
            "Get:10 https://cloud.r-project.org/bin/linux/ubuntu bionic-cran40/ Packages [69.5 kB]\n",
            "Hit:11 http://ppa.launchpad.net/cran/libgit2/ubuntu bionic InRelease\n",
            "Hit:13 http://ppa.launchpad.net/deadsnakes/ppa/ubuntu bionic InRelease\n",
            "Get:14 http://archive.ubuntu.com/ubuntu bionic-backports InRelease [74.6 kB]\n",
            "Hit:16 http://ppa.launchpad.net/graphics-drivers/ppa/ubuntu bionic InRelease\n",
            "Get:17 http://security.ubuntu.com/ubuntu bionic-security/restricted amd64 Packages [607 kB]\n",
            "Get:18 http://security.ubuntu.com/ubuntu bionic-security/main amd64 Packages [2,367 kB]\n",
            "Get:19 http://security.ubuntu.com/ubuntu bionic-security/universe amd64 Packages [1,433 kB]\n",
            "Get:20 http://ppa.launchpad.net/c2d4u.team/c2d4u4.0+/ubuntu bionic/main Sources [1,803 kB]\n",
            "Get:21 http://ppa.launchpad.net/c2d4u.team/c2d4u4.0+/ubuntu bionic/main amd64 Packages [923 kB]\n",
            "Get:22 http://archive.ubuntu.com/ubuntu bionic-updates/universe amd64 Packages [2,211 kB]\n",
            "Get:23 http://archive.ubuntu.com/ubuntu bionic-updates/restricted amd64 Packages [640 kB]\n",
            "Get:24 http://archive.ubuntu.com/ubuntu bionic-updates/main amd64 Packages [2,803 kB]\n",
            "Fetched 13.1 MB in 4s (3,667 kB/s)\n",
            "Reading package lists... Done\n",
            "Building dependency tree       \n",
            "Reading state information... Done\n",
            "58 packages can be upgraded. Run 'apt list --upgradable' to see them.\n",
            "Reading package lists... Done\n",
            "Building dependency tree       \n",
            "Reading state information... Done\n",
            "cmake is already the newest version (3.10.2-1ubuntu2.18.04.2).\n",
            "0 upgraded, 0 newly installed, 0 to remove and 58 not upgraded.\n",
            "Requirement already satisfied: dlib in /usr/local/lib/python3.7/dist-packages (19.18.0)\n"
          ]
        }
      ]
    },
    {
      "cell_type": "code",
      "metadata": {
        "colab": {
          "base_uri": "https://localhost:8080/"
        },
        "id": "FoIKufJPV0fL",
        "outputId": "eb5f00b5-a49d-44c9-bd4d-36a211ff8640"
      },
      "source": [
        "!pip install mtcnn\n",
        "!pip install keras-facenet"
      ],
      "execution_count": null,
      "outputs": [
        {
          "output_type": "stream",
          "name": "stdout",
          "text": [
            "Collecting mtcnn\n",
            "  Downloading mtcnn-0.1.1-py3-none-any.whl (2.3 MB)\n",
            "\u001b[K     |████████████████████████████████| 2.3 MB 5.2 MB/s \n",
            "\u001b[?25hRequirement already satisfied: keras>=2.0.0 in /usr/local/lib/python3.7/dist-packages (from mtcnn) (2.6.0)\n",
            "Requirement already satisfied: opencv-python>=4.1.0 in /usr/local/lib/python3.7/dist-packages (from mtcnn) (4.1.2.30)\n",
            "Requirement already satisfied: numpy>=1.14.5 in /usr/local/lib/python3.7/dist-packages (from opencv-python>=4.1.0->mtcnn) (1.19.5)\n",
            "Installing collected packages: mtcnn\n",
            "Successfully installed mtcnn-0.1.1\n",
            "Collecting keras-facenet\n",
            "  Downloading keras-facenet-0.3.2.tar.gz (10 kB)\n",
            "Requirement already satisfied: mtcnn in /usr/local/lib/python3.7/dist-packages (from keras-facenet) (0.1.1)\n",
            "Requirement already satisfied: opencv-python>=4.1.0 in /usr/local/lib/python3.7/dist-packages (from mtcnn->keras-facenet) (4.1.2.30)\n",
            "Requirement already satisfied: keras>=2.0.0 in /usr/local/lib/python3.7/dist-packages (from mtcnn->keras-facenet) (2.6.0)\n",
            "Requirement already satisfied: numpy>=1.14.5 in /usr/local/lib/python3.7/dist-packages (from opencv-python>=4.1.0->mtcnn->keras-facenet) (1.19.5)\n",
            "Building wheels for collected packages: keras-facenet\n",
            "  Building wheel for keras-facenet (setup.py) ... \u001b[?25l\u001b[?25hdone\n",
            "  Created wheel for keras-facenet: filename=keras_facenet-0.3.2-py3-none-any.whl size=10386 sha256=9b7a91a084530d392b8cf3266e416f9e56282eecaf295ffd60048e2e33bd8737\n",
            "  Stored in directory: /root/.cache/pip/wheels/2b/76/1a/a29ceb07bfca098e2b0bc8690d550753a0384cbed26d5f47ee\n",
            "Successfully built keras-facenet\n",
            "Installing collected packages: keras-facenet\n",
            "Successfully installed keras-facenet-0.3.2\n"
          ]
        }
      ]
    },
    {
      "cell_type": "code",
      "metadata": {
        "id": "xixsjPhEQUJr"
      },
      "source": [
        "import cv2\n",
        "import numpy as np\n",
        "from PIL import Image\n",
        "import dlib\n",
        "from google.colab.patches import cv2_imshow\n",
        "\n",
        "\n",
        "detector = dlib.get_frontal_face_detector()\n",
        "predictor = dlib.shape_predictor('dlib-models/shape_predictor_5_face_landmarks.dat')\n",
        "\n",
        "def shape_to_normal(shape):\n",
        "    shape_normal = []\n",
        "    for i in range(0, 5):\n",
        "        shape_normal.append((i, (shape.part(i).x, shape.part(i).y)))\n",
        "    return shape_normal\n",
        "\n",
        "def get_eyes_nose_dlib(shape):\n",
        "    nose = shape[4][1]\n",
        "    left_eye_x = int(shape[3][1][0] + shape[2][1][0]) // 2\n",
        "    left_eye_y = int(shape[3][1][1] + shape[2][1][1]) // 2\n",
        "    right_eyes_x = int(shape[1][1][0] + shape[0][1][0]) // 2\n",
        "    right_eyes_y = int(shape[1][1][1] + shape[0][1][1]) // 2\n",
        "    return nose, (left_eye_x, left_eye_y), (right_eyes_x, right_eyes_y)\n",
        "\n",
        "def distance(a, b):\n",
        "    return np.sqrt((a[0] - b[0]) ** 2 + (a[1] - b[1]) ** 2)\n",
        "\n",
        "def cosine_formula(length_line1, length_line2, length_line3):\n",
        "    cos_a = -(length_line3 ** 2 - length_line2 ** 2 - length_line1 ** 2) / (2 * length_line2 * length_line1)\n",
        "    return cos_a\n",
        "\n",
        "def rotate_point(origin, point, angle):\n",
        "    ox, oy = origin\n",
        "    px, py = point\n",
        "\n",
        "    qx = ox + np.cos(angle) * (px - ox) - np.sin(angle) * (py - oy)\n",
        "    qy = oy + np.sin(angle) * (px - ox) + np.cos(angle) * (py - oy)\n",
        "    return qx, qy\n",
        "\n",
        "\n",
        "def is_between(point1, point2, point3, extra_point):\n",
        "    c1 = (point2[0] - point1[0]) * (extra_point[1] - point1[1]) - (point2[1] - point1[1]) * (extra_point[0] - point1[0])\n",
        "    c2 = (point3[0] - point2[0]) * (extra_point[1] - point2[1]) - (point3[1] - point2[1]) * (extra_point[0] - point2[0])\n",
        "    c3 = (point1[0] - point3[0]) * (extra_point[1] - point3[1]) - (point1[1] - point3[1]) * (extra_point[0] - point3[0])\n",
        "    if (c1 < 0 and c2 < 0 and c3 < 0) or (c1 > 0 and c2 > 0 and c3 > 0):\n",
        "        return True\n",
        "    else:\n",
        "        return False\n",
        "\n",
        "def image_alignment(img):\n",
        "    gray = cv2.cvtColor(img, cv2.COLOR_BGR2GRAY)\n",
        "    rects = detector(gray, 0)\n",
        "    if len(rects) > 0:\n",
        "        for rect in rects:\n",
        "            x = rect.left()\n",
        "            y = rect.top()\n",
        "            w = rect.right()\n",
        "            h = rect.bottom()\n",
        "            shape = predictor(gray, rect)\n",
        "        shape = shape_to_normal(shape)\n",
        "        nose, left_eye, right_eye = get_eyes_nose_dlib(shape)\n",
        "        center_of_forehead = ((left_eye[0] + right_eye[0]) // 2, (left_eye[1] + right_eye[1]) // 2)\n",
        "        center_pred = (int((x + w) / 2), int((y + y) / 2))\n",
        "        length_line1 = distance(center_of_forehead, nose)\n",
        "        length_line2 = distance(center_pred, nose)\n",
        "        length_line3 = distance(center_pred, center_of_forehead)\n",
        "        cos_a = cosine_formula(length_line1, length_line2, length_line3)\n",
        "        angle = np.arccos(cos_a)\n",
        "        rotated_point = rotate_point(nose, center_of_forehead, angle)\n",
        "        rotated_point = (int(rotated_point[0]), int(rotated_point[1]))\n",
        "        if is_between(nose, center_of_forehead, center_pred, rotated_point):\n",
        "            angle = np.degrees(-angle)\n",
        "        else:\n",
        "            angle = np.degrees(angle)\n",
        "        img = Image.fromarray(img)\n",
        "        img_aligned = np.array(img.rotate(angle))\n",
        "        return img_aligned\n",
        "    else: return img"
      ],
      "execution_count": null,
      "outputs": []
    },
    {
      "cell_type": "markdown",
      "metadata": {
        "id": "o7RhveyQWjVh"
      },
      "source": [
        "**Face Extraction**"
      ]
    },
    {
      "cell_type": "code",
      "metadata": {
        "id": "yoGGf-V7W0Az"
      },
      "source": [
        "from mtcnn.mtcnn import MTCNN\n",
        "import time\n",
        "detector1 = MTCNN()\n",
        "def face_extract(img):\n",
        "\t\timg1 = cv2.cvtColor(img, cv2.COLOR_BGR2RGB)\n",
        "\t\tfaces = detector1.detect_faces(img1)\n",
        "\t\tif len(faces)==0:\n",
        "\t\t\treturn img\n",
        "\t\tx, y, width, height = faces[0]['box']\n",
        "\t\tface_aligned =  img1[y:y+height,x:x+width]\n",
        "\t\tface_aligned = cv2.cvtColor(face_aligned, cv2.COLOR_RGB2BGR)\n",
        "\t\treturn face_aligned"
      ],
      "execution_count": null,
      "outputs": []
    },
    {
      "cell_type": "markdown",
      "metadata": {
        "id": "aMbrBknniRNJ"
      },
      "source": [
        "**Reading input csv and preprocessing to create training data**"
      ]
    },
    {
      "cell_type": "code",
      "metadata": {
        "colab": {
          "base_uri": "https://localhost:8080/",
          "height": 204
        },
        "id": "AOkBa-Up7zO6",
        "outputId": "005b1f0f-2b17-4a68-ac5e-09fecefeee3d"
      },
      "source": [
        "import pandas as pd\n",
        "\n",
        "df = pd.read_csv('/content/drive/MyDrive/ES_FaceMatch_Dataset/test.csv')\n",
        "df.head()"
      ],
      "execution_count": 2,
      "outputs": [
        {
          "output_type": "execute_result",
          "data": {
            "text/html": [
              "<div>\n",
              "<style scoped>\n",
              "    .dataframe tbody tr th:only-of-type {\n",
              "        vertical-align: middle;\n",
              "    }\n",
              "\n",
              "    .dataframe tbody tr th {\n",
              "        vertical-align: top;\n",
              "    }\n",
              "\n",
              "    .dataframe thead th {\n",
              "        text-align: right;\n",
              "    }\n",
              "</style>\n",
              "<table border=\"1\" class=\"dataframe\">\n",
              "  <thead>\n",
              "    <tr style=\"text-align: right;\">\n",
              "      <th></th>\n",
              "      <th>image1</th>\n",
              "      <th>image2</th>\n",
              "    </tr>\n",
              "  </thead>\n",
              "  <tbody>\n",
              "    <tr>\n",
              "      <th>0</th>\n",
              "      <td>84770376235978.jpg</td>\n",
              "      <td>70098827925517.jpg</td>\n",
              "    </tr>\n",
              "    <tr>\n",
              "      <th>1</th>\n",
              "      <td>51285551988172.jpg</td>\n",
              "      <td>40352160634341.jpg</td>\n",
              "    </tr>\n",
              "    <tr>\n",
              "      <th>2</th>\n",
              "      <td>92104157409800.jpg</td>\n",
              "      <td>43993355472481.jpg</td>\n",
              "    </tr>\n",
              "    <tr>\n",
              "      <th>3</th>\n",
              "      <td>17278801258247.jpg</td>\n",
              "      <td>39952763632406.jpg</td>\n",
              "    </tr>\n",
              "    <tr>\n",
              "      <th>4</th>\n",
              "      <td>69669552075188.jpg</td>\n",
              "      <td>11563244873988.jpg</td>\n",
              "    </tr>\n",
              "  </tbody>\n",
              "</table>\n",
              "</div>"
            ],
            "text/plain": [
              "               image1              image2\n",
              "0  84770376235978.jpg  70098827925517.jpg\n",
              "1  51285551988172.jpg  40352160634341.jpg\n",
              "2  92104157409800.jpg  43993355472481.jpg\n",
              "3  17278801258247.jpg  39952763632406.jpg\n",
              "4  69669552075188.jpg  11563244873988.jpg"
            ]
          },
          "metadata": {},
          "execution_count": 2
        }
      ]
    },
    {
      "cell_type": "code",
      "metadata": {
        "id": "2jJGoy4g-a4b",
        "colab": {
          "base_uri": "https://localhost:8080/"
        },
        "outputId": "d8384d05-3629-4a2c-c4a2-b3f7160948a2"
      },
      "source": [
        "from tqdm import tqdm\n",
        "from keras_facenet import FaceNet\n",
        "\n",
        "x_test = []\n",
        "problematic = []\n",
        "embedder = FaceNet()\n",
        "for i in tqdm(df.iterrows()):\n",
        "  try:\n",
        "      ii = cv2.imread('/content/drive/MyDrive/ES_FaceMatch_Dataset/dataset_images/{}'.format(i[1][0]))\n",
        "      qq = image_alignment(ii)\n",
        "      tt = face_extract(qq)\n",
        "      ii1 = cv2.imread('/content/drive/MyDrive/ES_FaceMatch_Dataset/dataset_images/{}'.format(i[1][1]))\n",
        "      qq1 = image_alignment(ii1)\n",
        "      tt1 = face_extract(qq1)\n",
        "      img = np.reshape(tt, (1,tt.shape[0], -1,3))\n",
        "      embedding = embedder.embeddings(img)\n",
        "      img1 = np.reshape(tt1, (1,tt1.shape[0], -1,3))\n",
        "      embedding1 = embedder.embeddings(img1)\n",
        "      comb = np.concatenate((embedding,embedding1), axis=-1)\n",
        "      x_test.append(comb)\n",
        "  except:\n",
        "    problematic.append(i[0])\n",
        "    print(i[0])\n",
        "\n",
        "xx= np.array(x_test)\n",
        "np.save('/content/drive/MyDrive/face_match_data/xtest.npy', xx)"
      ],
      "execution_count": null,
      "outputs": [
        {
          "output_type": "stream",
          "name": "stderr",
          "text": [
            "4997it [2:00:55,  1.45s/it]\n"
          ]
        }
      ]
    },
    {
      "cell_type": "code",
      "metadata": {
        "id": "TAl6yT4vY7jf"
      },
      "source": [
        "import cv2\n",
        "import numpy as np\n",
        "from PIL import Image\n",
        "import dlib\n",
        "from google.colab.patches import cv2_imshow"
      ],
      "execution_count": 3,
      "outputs": []
    },
    {
      "cell_type": "markdown",
      "metadata": {
        "id": "kNwL787Bifo8"
      },
      "source": [
        "**Loading training data**"
      ]
    },
    {
      "cell_type": "code",
      "metadata": {
        "id": "XptOIHpOBHpM"
      },
      "source": [
        "x_train1 = np.load('/content/drive/MyDrive/face_match_data/x15000.npy') \n",
        "y_train1 = np.load('/content/drive/MyDrive/face_match_data/y15000.npy')\n",
        "x_train2 = np.load('/content/drive/MyDrive/face_match_data/x20000.npy')\n",
        "y_train2 = np.load('/content/drive/MyDrive/face_match_data/y20000.npy')\n",
        "x_train3 = np.load('/content/drive/MyDrive/face_match_data/x23916.npy')\n",
        "y_train3 = np.load('/content/drive/MyDrive/face_match_data/y23916.npy')\n",
        "xtest = np.load('/content/drive/MyDrive/face_match_data/xtest.npy')"
      ],
      "execution_count": 4,
      "outputs": []
    },
    {
      "cell_type": "code",
      "metadata": {
        "colab": {
          "base_uri": "https://localhost:8080/"
        },
        "id": "2SqVbSejWTiX",
        "outputId": "09796803-1866-421d-b73f-f567b6db5af9"
      },
      "source": [
        "tt = np.concatenate([x_train1,x_train2,x_train3], axis = 0)\n",
        "tt.shape"
      ],
      "execution_count": 5,
      "outputs": [
        {
          "output_type": "execute_result",
          "data": {
            "text/plain": [
              "(23917, 1, 1024)"
            ]
          },
          "metadata": {},
          "execution_count": 5
        }
      ]
    },
    {
      "cell_type": "code",
      "metadata": {
        "colab": {
          "base_uri": "https://localhost:8080/"
        },
        "id": "HDC4imaiXAwa",
        "outputId": "f64ae151-56ab-480d-8ddb-6ca6e53a17a8"
      },
      "source": [
        "yy = np.concatenate([y_train1,y_train2,y_train3], axis = 0)\n",
        "yy.shape"
      ],
      "execution_count": 6,
      "outputs": [
        {
          "output_type": "execute_result",
          "data": {
            "text/plain": [
              "(23917,)"
            ]
          },
          "metadata": {},
          "execution_count": 6
        }
      ]
    },
    {
      "cell_type": "code",
      "metadata": {
        "colab": {
          "base_uri": "https://localhost:8080/"
        },
        "id": "g-wV1DGxX-9K",
        "outputId": "5cce6cf9-db17-494e-dc3d-dc5562a4efc0"
      },
      "source": [
        "xx = tt.reshape([23917,1024])\n",
        "xx.shape"
      ],
      "execution_count": 7,
      "outputs": [
        {
          "output_type": "execute_result",
          "data": {
            "text/plain": [
              "(23917, 1024)"
            ]
          },
          "metadata": {},
          "execution_count": 7
        }
      ]
    },
    {
      "cell_type": "code",
      "metadata": {
        "colab": {
          "base_uri": "https://localhost:8080/"
        },
        "id": "5AJMmySN9v8P",
        "outputId": "be586038-d7bb-4514-a5cf-881889ea0f1d"
      },
      "source": [
        "xtest = xtest.reshape([4997,1024])\n",
        "xtest.shape"
      ],
      "execution_count": 11,
      "outputs": [
        {
          "output_type": "execute_result",
          "data": {
            "text/plain": [
              "(4997, 1024)"
            ]
          },
          "metadata": {},
          "execution_count": 11
        }
      ]
    },
    {
      "cell_type": "code",
      "metadata": {
        "id": "S-I1Ug59Y8wx"
      },
      "source": [
        "from sklearn.model_selection import train_test_split\n",
        "from sklearn.metrics import classification_report\n",
        "from keras.models import Sequential\n",
        "from keras.layers import Dense, Activation\n",
        "\n",
        "X_train, X_test, y_train, y_test = train_test_split(xx, yy, test_size=0.2, random_state = 1)"
      ],
      "execution_count": 12,
      "outputs": []
    },
    {
      "cell_type": "code",
      "metadata": {
        "colab": {
          "base_uri": "https://localhost:8080/"
        },
        "id": "X6tNcp9ObEzy",
        "outputId": "1ab7ad67-46fc-4340-ac30-d99e6c43734f"
      },
      "source": [
        "from tensorflow.keras import Sequential\n",
        "from tensorflow.keras.layers import *\n",
        "from keras.regularizers import l2\n",
        "\n",
        "model = Sequential()\n",
        "model.add(Dense(512,  input_shape = (1024,)))\n",
        "model.add(BatchNormalization())\n",
        "model.add(ReLU())\n",
        "model.add(Dropout(0.2))\n",
        "model.add(Dense(256))\n",
        "model.add(BatchNormalization())\n",
        "model.add(ReLU())\n",
        "model.add(Dropout(0.2))\n",
        "model.add(Dense(256))\n",
        "model.add(BatchNormalization())\n",
        "model.add(ReLU())\n",
        "model.add(Dropout(0.1))\n",
        "model.add(Dense(64))\n",
        "model.add(BatchNormalization())\n",
        "model.add(ReLU())\n",
        "model.add(Dense(32))\n",
        "model.add(BatchNormalization())\n",
        "model.add(ReLU())\n",
        "model.add(Dense(1, activation= 'sigmoid'))\n",
        "model.compile(optimizer='adam',\n",
        "              loss='binary_crossentropy',\n",
        "              metrics=['accuracy'])\n",
        "model.summary()"
      ],
      "execution_count": 60,
      "outputs": [
        {
          "output_type": "stream",
          "name": "stdout",
          "text": [
            "Model: \"sequential_2\"\n",
            "_________________________________________________________________\n",
            "Layer (type)                 Output Shape              Param #   \n",
            "=================================================================\n",
            "dense_11 (Dense)             (None, 512)               524800    \n",
            "_________________________________________________________________\n",
            "batch_normalization_9 (Batch (None, 512)               2048      \n",
            "_________________________________________________________________\n",
            "re_lu (ReLU)                 (None, 512)               0         \n",
            "_________________________________________________________________\n",
            "dropout (Dropout)            (None, 512)               0         \n",
            "_________________________________________________________________\n",
            "dense_12 (Dense)             (None, 256)               131328    \n",
            "_________________________________________________________________\n",
            "batch_normalization_10 (Batc (None, 256)               1024      \n",
            "_________________________________________________________________\n",
            "re_lu_1 (ReLU)               (None, 256)               0         \n",
            "_________________________________________________________________\n",
            "dropout_1 (Dropout)          (None, 256)               0         \n",
            "_________________________________________________________________\n",
            "dense_13 (Dense)             (None, 256)               65792     \n",
            "_________________________________________________________________\n",
            "batch_normalization_11 (Batc (None, 256)               1024      \n",
            "_________________________________________________________________\n",
            "re_lu_2 (ReLU)               (None, 256)               0         \n",
            "_________________________________________________________________\n",
            "dropout_2 (Dropout)          (None, 256)               0         \n",
            "_________________________________________________________________\n",
            "dense_14 (Dense)             (None, 64)                16448     \n",
            "_________________________________________________________________\n",
            "batch_normalization_12 (Batc (None, 64)                256       \n",
            "_________________________________________________________________\n",
            "re_lu_3 (ReLU)               (None, 64)                0         \n",
            "_________________________________________________________________\n",
            "dense_15 (Dense)             (None, 32)                2080      \n",
            "_________________________________________________________________\n",
            "batch_normalization_13 (Batc (None, 32)                128       \n",
            "_________________________________________________________________\n",
            "re_lu_4 (ReLU)               (None, 32)                0         \n",
            "_________________________________________________________________\n",
            "dense_16 (Dense)             (None, 1)                 33        \n",
            "=================================================================\n",
            "Total params: 744,961\n",
            "Trainable params: 742,721\n",
            "Non-trainable params: 2,240\n",
            "_________________________________________________________________\n"
          ]
        }
      ]
    },
    {
      "cell_type": "code",
      "metadata": {
        "colab": {
          "base_uri": "https://localhost:8080/"
        },
        "id": "y8NvNNT0eKgo",
        "outputId": "987e97e0-9f01-4a68-fa42-794ddc3029bc"
      },
      "source": [
        "import tensorflow as tf\n",
        "import keras \n",
        "checkpoint = tf.keras.callbacks.ModelCheckpoint(\"model2_weights.h5\",save_freq='epoch', save_best_only = True, monitor='val_accuracy',\n",
        "                            save_weights_only=True, mode='max', verbose=0)\n",
        "reduce_lr = keras.callbacks.ReduceLROnPlateau(monitor='val_accuracy', factor=0.3, patience=3, min_lr=0.00001, mode='auto')\n",
        "history = model.fit(X_train, y_train, epochs=100, batch_size=64, validation_split=0.2,callbacks = [reduce_lr, checkpoint])"
      ],
      "execution_count": 61,
      "outputs": [
        {
          "output_type": "stream",
          "name": "stdout",
          "text": [
            "Epoch 1/100\n",
            "240/240 [==============================] - 4s 10ms/step - loss: 0.4880 - accuracy: 0.7493 - val_loss: 0.4798 - val_accuracy: 0.7970\n",
            "Epoch 2/100\n",
            "240/240 [==============================] - 2s 10ms/step - loss: 0.3238 - accuracy: 0.8566 - val_loss: 0.2668 - val_accuracy: 0.8882\n",
            "Epoch 3/100\n",
            "240/240 [==============================] - 2s 10ms/step - loss: 0.2685 - accuracy: 0.8856 - val_loss: 0.2418 - val_accuracy: 0.9004\n",
            "Epoch 4/100\n",
            "240/240 [==============================] - 2s 10ms/step - loss: 0.2360 - accuracy: 0.9018 - val_loss: 0.2302 - val_accuracy: 0.9085\n",
            "Epoch 5/100\n",
            "240/240 [==============================] - 2s 9ms/step - loss: 0.2122 - accuracy: 0.9138 - val_loss: 0.2295 - val_accuracy: 0.9067\n",
            "Epoch 6/100\n",
            "240/240 [==============================] - 2s 10ms/step - loss: 0.2065 - accuracy: 0.9168 - val_loss: 0.2147 - val_accuracy: 0.9130\n",
            "Epoch 7/100\n",
            "240/240 [==============================] - 2s 10ms/step - loss: 0.1799 - accuracy: 0.9291 - val_loss: 0.2513 - val_accuracy: 0.9031\n",
            "Epoch 8/100\n",
            "240/240 [==============================] - 2s 9ms/step - loss: 0.1748 - accuracy: 0.9288 - val_loss: 0.2087 - val_accuracy: 0.9148\n",
            "Epoch 9/100\n",
            "240/240 [==============================] - 2s 9ms/step - loss: 0.1706 - accuracy: 0.9322 - val_loss: 0.2252 - val_accuracy: 0.9104\n",
            "Epoch 10/100\n",
            "240/240 [==============================] - 2s 9ms/step - loss: 0.1521 - accuracy: 0.9392 - val_loss: 0.2121 - val_accuracy: 0.9208\n",
            "Epoch 11/100\n",
            "240/240 [==============================] - 2s 10ms/step - loss: 0.1352 - accuracy: 0.9462 - val_loss: 0.2038 - val_accuracy: 0.9187\n",
            "Epoch 12/100\n",
            "240/240 [==============================] - 2s 10ms/step - loss: 0.1298 - accuracy: 0.9485 - val_loss: 0.2041 - val_accuracy: 0.9227\n",
            "Epoch 13/100\n",
            "240/240 [==============================] - 2s 9ms/step - loss: 0.1200 - accuracy: 0.9529 - val_loss: 0.2103 - val_accuracy: 0.9174\n",
            "Epoch 14/100\n",
            "240/240 [==============================] - 2s 10ms/step - loss: 0.1119 - accuracy: 0.9583 - val_loss: 0.2222 - val_accuracy: 0.9211\n",
            "Epoch 15/100\n",
            "240/240 [==============================] - 2s 9ms/step - loss: 0.1124 - accuracy: 0.9569 - val_loss: 0.2088 - val_accuracy: 0.9229\n",
            "Epoch 16/100\n",
            "240/240 [==============================] - 3s 11ms/step - loss: 0.1043 - accuracy: 0.9610 - val_loss: 0.2071 - val_accuracy: 0.9247\n",
            "Epoch 17/100\n",
            "240/240 [==============================] - 2s 10ms/step - loss: 0.0967 - accuracy: 0.9624 - val_loss: 0.2092 - val_accuracy: 0.9274\n",
            "Epoch 18/100\n",
            "240/240 [==============================] - 2s 9ms/step - loss: 0.0915 - accuracy: 0.9646 - val_loss: 0.2208 - val_accuracy: 0.9253\n",
            "Epoch 19/100\n",
            "240/240 [==============================] - 2s 9ms/step - loss: 0.0812 - accuracy: 0.9679 - val_loss: 0.2290 - val_accuracy: 0.9247\n",
            "Epoch 20/100\n",
            "240/240 [==============================] - 2s 9ms/step - loss: 0.0901 - accuracy: 0.9658 - val_loss: 0.2473 - val_accuracy: 0.9193\n",
            "Epoch 21/100\n",
            "240/240 [==============================] - 2s 10ms/step - loss: 0.0567 - accuracy: 0.9797 - val_loss: 0.2100 - val_accuracy: 0.9279\n",
            "Epoch 22/100\n",
            "240/240 [==============================] - 2s 9ms/step - loss: 0.0481 - accuracy: 0.9816 - val_loss: 0.2191 - val_accuracy: 0.9292\n",
            "Epoch 23/100\n",
            "240/240 [==============================] - 3s 11ms/step - loss: 0.0478 - accuracy: 0.9822 - val_loss: 0.2258 - val_accuracy: 0.9268\n",
            "Epoch 24/100\n",
            "240/240 [==============================] - 2s 10ms/step - loss: 0.0434 - accuracy: 0.9840 - val_loss: 0.2315 - val_accuracy: 0.9276\n",
            "Epoch 25/100\n",
            "240/240 [==============================] - 2s 10ms/step - loss: 0.0400 - accuracy: 0.9849 - val_loss: 0.2194 - val_accuracy: 0.9323\n",
            "Epoch 26/100\n",
            "240/240 [==============================] - 3s 11ms/step - loss: 0.0405 - accuracy: 0.9853 - val_loss: 0.2352 - val_accuracy: 0.9279\n",
            "Epoch 27/100\n",
            "240/240 [==============================] - 2s 10ms/step - loss: 0.0371 - accuracy: 0.9873 - val_loss: 0.2247 - val_accuracy: 0.9321\n",
            "Epoch 28/100\n",
            "240/240 [==============================] - 2s 10ms/step - loss: 0.0313 - accuracy: 0.9892 - val_loss: 0.2296 - val_accuracy: 0.9297\n",
            "Epoch 29/100\n",
            "240/240 [==============================] - 3s 11ms/step - loss: 0.0351 - accuracy: 0.9880 - val_loss: 0.2292 - val_accuracy: 0.9321\n",
            "Epoch 30/100\n",
            "240/240 [==============================] - 2s 9ms/step - loss: 0.0287 - accuracy: 0.9905 - val_loss: 0.2247 - val_accuracy: 0.9323\n",
            "Epoch 31/100\n",
            "240/240 [==============================] - 3s 11ms/step - loss: 0.0273 - accuracy: 0.9899 - val_loss: 0.2292 - val_accuracy: 0.9342\n",
            "Epoch 32/100\n",
            "240/240 [==============================] - 2s 10ms/step - loss: 0.0287 - accuracy: 0.9900 - val_loss: 0.2298 - val_accuracy: 0.9318\n",
            "Epoch 33/100\n",
            "240/240 [==============================] - 2s 10ms/step - loss: 0.0237 - accuracy: 0.9920 - val_loss: 0.2386 - val_accuracy: 0.9326\n",
            "Epoch 34/100\n",
            "240/240 [==============================] - 2s 10ms/step - loss: 0.0246 - accuracy: 0.9916 - val_loss: 0.2305 - val_accuracy: 0.9321\n",
            "Epoch 35/100\n",
            "240/240 [==============================] - 2s 10ms/step - loss: 0.0247 - accuracy: 0.9914 - val_loss: 0.2305 - val_accuracy: 0.9347\n",
            "Epoch 36/100\n",
            "240/240 [==============================] - 3s 11ms/step - loss: 0.0243 - accuracy: 0.9910 - val_loss: 0.2297 - val_accuracy: 0.9342\n",
            "Epoch 37/100\n",
            "240/240 [==============================] - 3s 11ms/step - loss: 0.0248 - accuracy: 0.9916 - val_loss: 0.2311 - val_accuracy: 0.9328\n",
            "Epoch 38/100\n",
            "240/240 [==============================] - 2s 10ms/step - loss: 0.0227 - accuracy: 0.9920 - val_loss: 0.2312 - val_accuracy: 0.9334\n",
            "Epoch 39/100\n",
            "240/240 [==============================] - 2s 10ms/step - loss: 0.0220 - accuracy: 0.9925 - val_loss: 0.2339 - val_accuracy: 0.9323\n",
            "Epoch 40/100\n",
            "240/240 [==============================] - 3s 11ms/step - loss: 0.0214 - accuracy: 0.9928 - val_loss: 0.2304 - val_accuracy: 0.9326\n",
            "Epoch 41/100\n",
            "240/240 [==============================] - 2s 10ms/step - loss: 0.0216 - accuracy: 0.9918 - val_loss: 0.2319 - val_accuracy: 0.9334\n",
            "Epoch 42/100\n",
            "240/240 [==============================] - 2s 10ms/step - loss: 0.0220 - accuracy: 0.9918 - val_loss: 0.2321 - val_accuracy: 0.9326\n",
            "Epoch 43/100\n",
            "240/240 [==============================] - 2s 10ms/step - loss: 0.0196 - accuracy: 0.9940 - val_loss: 0.2310 - val_accuracy: 0.9339\n",
            "Epoch 44/100\n",
            "240/240 [==============================] - 2s 10ms/step - loss: 0.0207 - accuracy: 0.9929 - val_loss: 0.2313 - val_accuracy: 0.9344\n",
            "Epoch 45/100\n",
            "240/240 [==============================] - 3s 11ms/step - loss: 0.0228 - accuracy: 0.9921 - val_loss: 0.2298 - val_accuracy: 0.9342\n",
            "Epoch 46/100\n",
            "240/240 [==============================] - 2s 10ms/step - loss: 0.0184 - accuracy: 0.9937 - val_loss: 0.2325 - val_accuracy: 0.9328\n",
            "Epoch 47/100\n",
            "240/240 [==============================] - 2s 9ms/step - loss: 0.0228 - accuracy: 0.9918 - val_loss: 0.2303 - val_accuracy: 0.9344\n",
            "Epoch 48/100\n",
            "240/240 [==============================] - 2s 9ms/step - loss: 0.0212 - accuracy: 0.9934 - val_loss: 0.2311 - val_accuracy: 0.9342\n",
            "Epoch 49/100\n",
            "240/240 [==============================] - 2s 10ms/step - loss: 0.0204 - accuracy: 0.9931 - val_loss: 0.2297 - val_accuracy: 0.9339\n",
            "Epoch 50/100\n",
            "240/240 [==============================] - 3s 11ms/step - loss: 0.0204 - accuracy: 0.9935 - val_loss: 0.2325 - val_accuracy: 0.9336\n",
            "Epoch 51/100\n",
            "240/240 [==============================] - 2s 10ms/step - loss: 0.0200 - accuracy: 0.9931 - val_loss: 0.2322 - val_accuracy: 0.9331\n",
            "Epoch 52/100\n",
            "240/240 [==============================] - 2s 10ms/step - loss: 0.0207 - accuracy: 0.9926 - val_loss: 0.2322 - val_accuracy: 0.9331\n",
            "Epoch 53/100\n",
            "240/240 [==============================] - 2s 10ms/step - loss: 0.0213 - accuracy: 0.9929 - val_loss: 0.2330 - val_accuracy: 0.9323\n",
            "Epoch 54/100\n",
            "240/240 [==============================] - 3s 11ms/step - loss: 0.0174 - accuracy: 0.9937 - val_loss: 0.2327 - val_accuracy: 0.9331\n",
            "Epoch 55/100\n",
            "240/240 [==============================] - 2s 10ms/step - loss: 0.0198 - accuracy: 0.9934 - val_loss: 0.2315 - val_accuracy: 0.9310\n",
            "Epoch 56/100\n",
            "240/240 [==============================] - 2s 10ms/step - loss: 0.0216 - accuracy: 0.9925 - val_loss: 0.2307 - val_accuracy: 0.9331\n",
            "Epoch 57/100\n",
            "240/240 [==============================] - 3s 11ms/step - loss: 0.0196 - accuracy: 0.9932 - val_loss: 0.2329 - val_accuracy: 0.9328\n",
            "Epoch 58/100\n",
            "240/240 [==============================] - 2s 10ms/step - loss: 0.0193 - accuracy: 0.9927 - val_loss: 0.2319 - val_accuracy: 0.9331\n",
            "Epoch 59/100\n",
            "240/240 [==============================] - 2s 10ms/step - loss: 0.0194 - accuracy: 0.9937 - val_loss: 0.2336 - val_accuracy: 0.9315\n",
            "Epoch 60/100\n",
            "240/240 [==============================] - 3s 11ms/step - loss: 0.0214 - accuracy: 0.9933 - val_loss: 0.2324 - val_accuracy: 0.9315\n",
            "Epoch 61/100\n",
            "240/240 [==============================] - 2s 10ms/step - loss: 0.0188 - accuracy: 0.9933 - val_loss: 0.2326 - val_accuracy: 0.9326\n",
            "Epoch 62/100\n",
            "240/240 [==============================] - 3s 11ms/step - loss: 0.0169 - accuracy: 0.9938 - val_loss: 0.2334 - val_accuracy: 0.9313\n",
            "Epoch 63/100\n",
            "240/240 [==============================] - 2s 10ms/step - loss: 0.0196 - accuracy: 0.9929 - val_loss: 0.2310 - val_accuracy: 0.9339\n",
            "Epoch 64/100\n",
            "240/240 [==============================] - 3s 11ms/step - loss: 0.0197 - accuracy: 0.9929 - val_loss: 0.2334 - val_accuracy: 0.9326\n",
            "Epoch 65/100\n",
            "240/240 [==============================] - 3s 11ms/step - loss: 0.0199 - accuracy: 0.9933 - val_loss: 0.2329 - val_accuracy: 0.9342\n",
            "Epoch 66/100\n",
            "240/240 [==============================] - 2s 10ms/step - loss: 0.0187 - accuracy: 0.9936 - val_loss: 0.2330 - val_accuracy: 0.9339\n",
            "Epoch 67/100\n",
            "240/240 [==============================] - 2s 10ms/step - loss: 0.0188 - accuracy: 0.9940 - val_loss: 0.2330 - val_accuracy: 0.9323\n",
            "Epoch 68/100\n",
            "240/240 [==============================] - 2s 10ms/step - loss: 0.0159 - accuracy: 0.9952 - val_loss: 0.2352 - val_accuracy: 0.9328\n",
            "Epoch 69/100\n",
            "240/240 [==============================] - 2s 10ms/step - loss: 0.0168 - accuracy: 0.9943 - val_loss: 0.2347 - val_accuracy: 0.9331\n",
            "Epoch 70/100\n",
            "240/240 [==============================] - 3s 11ms/step - loss: 0.0193 - accuracy: 0.9931 - val_loss: 0.2348 - val_accuracy: 0.9326\n",
            "Epoch 71/100\n",
            "240/240 [==============================] - 2s 10ms/step - loss: 0.0187 - accuracy: 0.9932 - val_loss: 0.2353 - val_accuracy: 0.9323\n",
            "Epoch 72/100\n",
            "240/240 [==============================] - 2s 10ms/step - loss: 0.0178 - accuracy: 0.9943 - val_loss: 0.2352 - val_accuracy: 0.9321\n",
            "Epoch 73/100\n",
            "240/240 [==============================] - 3s 11ms/step - loss: 0.0195 - accuracy: 0.9927 - val_loss: 0.2347 - val_accuracy: 0.9318\n",
            "Epoch 74/100\n",
            "240/240 [==============================] - 3s 10ms/step - loss: 0.0197 - accuracy: 0.9933 - val_loss: 0.2353 - val_accuracy: 0.9331\n",
            "Epoch 75/100\n",
            "240/240 [==============================] - 3s 11ms/step - loss: 0.0188 - accuracy: 0.9938 - val_loss: 0.2370 - val_accuracy: 0.9334\n",
            "Epoch 76/100\n",
            "240/240 [==============================] - 2s 10ms/step - loss: 0.0194 - accuracy: 0.9929 - val_loss: 0.2367 - val_accuracy: 0.9331\n",
            "Epoch 77/100\n",
            "240/240 [==============================] - 2s 10ms/step - loss: 0.0188 - accuracy: 0.9941 - val_loss: 0.2370 - val_accuracy: 0.9334\n",
            "Epoch 78/100\n",
            "240/240 [==============================] - 2s 10ms/step - loss: 0.0202 - accuracy: 0.9930 - val_loss: 0.2374 - val_accuracy: 0.9342\n",
            "Epoch 79/100\n",
            "240/240 [==============================] - 2s 10ms/step - loss: 0.0192 - accuracy: 0.9933 - val_loss: 0.2369 - val_accuracy: 0.9326\n",
            "Epoch 80/100\n",
            "240/240 [==============================] - 2s 10ms/step - loss: 0.0180 - accuracy: 0.9940 - val_loss: 0.2351 - val_accuracy: 0.9339\n",
            "Epoch 81/100\n",
            "240/240 [==============================] - 2s 10ms/step - loss: 0.0191 - accuracy: 0.9942 - val_loss: 0.2349 - val_accuracy: 0.9328\n",
            "Epoch 82/100\n",
            "240/240 [==============================] - 3s 11ms/step - loss: 0.0174 - accuracy: 0.9943 - val_loss: 0.2384 - val_accuracy: 0.9339\n",
            "Epoch 83/100\n",
            "240/240 [==============================] - 2s 10ms/step - loss: 0.0158 - accuracy: 0.9947 - val_loss: 0.2375 - val_accuracy: 0.9336\n",
            "Epoch 84/100\n",
            "240/240 [==============================] - 2s 10ms/step - loss: 0.0181 - accuracy: 0.9944 - val_loss: 0.2390 - val_accuracy: 0.9342\n",
            "Epoch 85/100\n",
            "240/240 [==============================] - 2s 10ms/step - loss: 0.0183 - accuracy: 0.9932 - val_loss: 0.2373 - val_accuracy: 0.9336\n",
            "Epoch 86/100\n",
            "240/240 [==============================] - 3s 11ms/step - loss: 0.0195 - accuracy: 0.9935 - val_loss: 0.2378 - val_accuracy: 0.9342\n",
            "Epoch 87/100\n",
            "240/240 [==============================] - 3s 11ms/step - loss: 0.0174 - accuracy: 0.9939 - val_loss: 0.2380 - val_accuracy: 0.9339\n",
            "Epoch 88/100\n",
            "240/240 [==============================] - 3s 11ms/step - loss: 0.0173 - accuracy: 0.9945 - val_loss: 0.2407 - val_accuracy: 0.9326\n",
            "Epoch 89/100\n",
            "240/240 [==============================] - 3s 11ms/step - loss: 0.0190 - accuracy: 0.9935 - val_loss: 0.2368 - val_accuracy: 0.9344\n",
            "Epoch 90/100\n",
            "240/240 [==============================] - 3s 11ms/step - loss: 0.0171 - accuracy: 0.9941 - val_loss: 0.2380 - val_accuracy: 0.9336\n",
            "Epoch 91/100\n",
            "240/240 [==============================] - 2s 10ms/step - loss: 0.0185 - accuracy: 0.9933 - val_loss: 0.2372 - val_accuracy: 0.9339\n",
            "Epoch 92/100\n",
            "240/240 [==============================] - 2s 10ms/step - loss: 0.0155 - accuracy: 0.9948 - val_loss: 0.2424 - val_accuracy: 0.9344\n",
            "Epoch 93/100\n",
            "240/240 [==============================] - 2s 10ms/step - loss: 0.0180 - accuracy: 0.9933 - val_loss: 0.2414 - val_accuracy: 0.9336\n",
            "Epoch 94/100\n",
            "240/240 [==============================] - 3s 10ms/step - loss: 0.0198 - accuracy: 0.9928 - val_loss: 0.2412 - val_accuracy: 0.9339\n",
            "Epoch 95/100\n",
            "240/240 [==============================] - 2s 10ms/step - loss: 0.0154 - accuracy: 0.9944 - val_loss: 0.2384 - val_accuracy: 0.9328\n",
            "Epoch 96/100\n",
            "240/240 [==============================] - 3s 11ms/step - loss: 0.0188 - accuracy: 0.9931 - val_loss: 0.2398 - val_accuracy: 0.9347\n",
            "Epoch 97/100\n",
            "240/240 [==============================] - 3s 11ms/step - loss: 0.0183 - accuracy: 0.9937 - val_loss: 0.2376 - val_accuracy: 0.9342\n",
            "Epoch 98/100\n",
            "240/240 [==============================] - 3s 11ms/step - loss: 0.0196 - accuracy: 0.9933 - val_loss: 0.2394 - val_accuracy: 0.9334\n",
            "Epoch 99/100\n",
            "240/240 [==============================] - 3s 11ms/step - loss: 0.0185 - accuracy: 0.9937 - val_loss: 0.2381 - val_accuracy: 0.9342\n",
            "Epoch 100/100\n",
            "240/240 [==============================] - 2s 10ms/step - loss: 0.0171 - accuracy: 0.9943 - val_loss: 0.2409 - val_accuracy: 0.9342\n"
          ]
        }
      ]
    },
    {
      "cell_type": "code",
      "metadata": {
        "id": "RBN607kfl4O_"
      },
      "source": [
        "model.load_weights('/content/model2_weights.h5')"
      ],
      "execution_count": 62,
      "outputs": []
    },
    {
      "cell_type": "code",
      "metadata": {
        "colab": {
          "base_uri": "https://localhost:8080/"
        },
        "id": "nmd8L9CYd6fq",
        "outputId": "b2e6e0cc-d0c5-40ad-fb19-186e4f54b4c9"
      },
      "source": [
        "pred = model.predict(X_test) > 0.5\n",
        "print(classification_report(y_test, pred))"
      ],
      "execution_count": 63,
      "outputs": [
        {
          "output_type": "stream",
          "name": "stdout",
          "text": [
            "              precision    recall  f1-score   support\n",
            "\n",
            "           0       0.96      0.93      0.95      3044\n",
            "           1       0.89      0.94      0.91      1740\n",
            "\n",
            "    accuracy                           0.93      4784\n",
            "   macro avg       0.93      0.94      0.93      4784\n",
            "weighted avg       0.94      0.93      0.93      4784\n",
            "\n"
          ]
        }
      ]
    },
    {
      "cell_type": "code",
      "metadata": {
        "id": "_PxI6qSXh-RT",
        "colab": {
          "base_uri": "https://localhost:8080/"
        },
        "outputId": "e7f60458-852c-4dfe-b295-06dd712be21e"
      },
      "source": [
        "from xgboost import XGBClassifier\n",
        "clasifier = XGBClassifier(objective= \"binary:logistic\",\n",
        "     eval_metric= \"error\",\n",
        "     tree_method= \"gpu_hist\",\n",
        "     max_depth= 10,\n",
        "     subsample= 0.8,\n",
        "     n_estimators = 2000,\n",
        "     eta = 0.00001)\n",
        "clasifier.fit(X_train, y_train)"
      ],
      "execution_count": 37,
      "outputs": [
        {
          "output_type": "execute_result",
          "data": {
            "text/plain": [
              "XGBClassifier(base_score=0.5, booster='gbtree', colsample_bylevel=1,\n",
              "              colsample_bynode=1, colsample_bytree=1, eta=1e-05,\n",
              "              eval_metric='error', gamma=0, learning_rate=0.1, max_delta_step=0,\n",
              "              max_depth=10, min_child_weight=1, missing=None, n_estimators=2000,\n",
              "              n_jobs=1, nthread=None, objective='binary:logistic',\n",
              "              random_state=0, reg_alpha=0, reg_lambda=1, scale_pos_weight=1,\n",
              "              seed=None, silent=None, subsample=0.8, tree_method='gpu_hist',\n",
              "              verbosity=1)"
            ]
          },
          "metadata": {},
          "execution_count": 37
        }
      ]
    },
    {
      "cell_type": "code",
      "metadata": {
        "colab": {
          "base_uri": "https://localhost:8080/"
        },
        "id": "8GtAQpRt8fnL",
        "outputId": "7504cd11-d253-4036-f616-e1398742c74c"
      },
      "source": [
        "y_pred = clasifier.predict(X_test) >0.5\n",
        "print(classification_report(y_test, y_pred))"
      ],
      "execution_count": 38,
      "outputs": [
        {
          "output_type": "stream",
          "name": "stdout",
          "text": [
            "              precision    recall  f1-score   support\n",
            "\n",
            "           0       0.96      0.96      0.96      3044\n",
            "           1       0.93      0.93      0.93      1740\n",
            "\n",
            "    accuracy                           0.95      4784\n",
            "   macro avg       0.94      0.94      0.94      4784\n",
            "weighted avg       0.95      0.95      0.95      4784\n",
            "\n"
          ]
        }
      ]
    },
    {
      "cell_type": "code",
      "metadata": {
        "id": "z4G8P95bDLmK"
      },
      "source": [
        "ypred = model.predict(xtest) >0.5"
      ],
      "execution_count": 64,
      "outputs": []
    },
    {
      "cell_type": "code",
      "metadata": {
        "colab": {
          "base_uri": "https://localhost:8080/"
        },
        "id": "y7KzgrhrElZm",
        "outputId": "4f57eab1-21de-4afd-8d18-0a21b591d180"
      },
      "source": [
        "cnt = 0 \n",
        "for y in ypred:\n",
        "  if y: cnt+=1\n",
        "\n",
        "cnt"
      ],
      "execution_count": 65,
      "outputs": [
        {
          "output_type": "execute_result",
          "data": {
            "text/plain": [
              "1879"
            ]
          },
          "metadata": {},
          "execution_count": 65
        }
      ]
    },
    {
      "cell_type": "code",
      "metadata": {
        "id": "71ztw7dBEmk2"
      },
      "source": [
        "df['pred'] = ypred\n"
      ],
      "execution_count": 66,
      "outputs": []
    },
    {
      "cell_type": "code",
      "metadata": {
        "colab": {
          "base_uri": "https://localhost:8080/",
          "height": 419
        },
        "id": "-NeYfBKpHFAp",
        "outputId": "bc0fc305-cba0-48ac-cc51-c3fb1a6894f7"
      },
      "source": [
        "df['ttyl'] = (df['pred'] != df['pred2']).astype(int)\n",
        "df"
      ],
      "execution_count": 67,
      "outputs": [
        {
          "output_type": "execute_result",
          "data": {
            "text/html": [
              "<div>\n",
              "<style scoped>\n",
              "    .dataframe tbody tr th:only-of-type {\n",
              "        vertical-align: middle;\n",
              "    }\n",
              "\n",
              "    .dataframe tbody tr th {\n",
              "        vertical-align: top;\n",
              "    }\n",
              "\n",
              "    .dataframe thead th {\n",
              "        text-align: right;\n",
              "    }\n",
              "</style>\n",
              "<table border=\"1\" class=\"dataframe\">\n",
              "  <thead>\n",
              "    <tr style=\"text-align: right;\">\n",
              "      <th></th>\n",
              "      <th>image1</th>\n",
              "      <th>image2</th>\n",
              "      <th>pred</th>\n",
              "      <th>pred2</th>\n",
              "      <th>ttyl</th>\n",
              "    </tr>\n",
              "  </thead>\n",
              "  <tbody>\n",
              "    <tr>\n",
              "      <th>0</th>\n",
              "      <td>84770376235978.jpg</td>\n",
              "      <td>70098827925517.jpg</td>\n",
              "      <td>False</td>\n",
              "      <td>False</td>\n",
              "      <td>0</td>\n",
              "    </tr>\n",
              "    <tr>\n",
              "      <th>1</th>\n",
              "      <td>51285551988172.jpg</td>\n",
              "      <td>40352160634341.jpg</td>\n",
              "      <td>False</td>\n",
              "      <td>False</td>\n",
              "      <td>0</td>\n",
              "    </tr>\n",
              "    <tr>\n",
              "      <th>2</th>\n",
              "      <td>92104157409800.jpg</td>\n",
              "      <td>43993355472481.jpg</td>\n",
              "      <td>True</td>\n",
              "      <td>True</td>\n",
              "      <td>0</td>\n",
              "    </tr>\n",
              "    <tr>\n",
              "      <th>3</th>\n",
              "      <td>17278801258247.jpg</td>\n",
              "      <td>39952763632406.jpg</td>\n",
              "      <td>False</td>\n",
              "      <td>False</td>\n",
              "      <td>0</td>\n",
              "    </tr>\n",
              "    <tr>\n",
              "      <th>4</th>\n",
              "      <td>69669552075188.jpg</td>\n",
              "      <td>11563244873988.jpg</td>\n",
              "      <td>False</td>\n",
              "      <td>False</td>\n",
              "      <td>0</td>\n",
              "    </tr>\n",
              "    <tr>\n",
              "      <th>...</th>\n",
              "      <td>...</td>\n",
              "      <td>...</td>\n",
              "      <td>...</td>\n",
              "      <td>...</td>\n",
              "      <td>...</td>\n",
              "    </tr>\n",
              "    <tr>\n",
              "      <th>4992</th>\n",
              "      <td>30470682361984.jpg</td>\n",
              "      <td>31915544799803.jpg</td>\n",
              "      <td>True</td>\n",
              "      <td>False</td>\n",
              "      <td>1</td>\n",
              "    </tr>\n",
              "    <tr>\n",
              "      <th>4993</th>\n",
              "      <td>38633214403572.jpg</td>\n",
              "      <td>17760910482671.jpg</td>\n",
              "      <td>False</td>\n",
              "      <td>False</td>\n",
              "      <td>0</td>\n",
              "    </tr>\n",
              "    <tr>\n",
              "      <th>4994</th>\n",
              "      <td>66870453878736.jpg</td>\n",
              "      <td>76054148475027.jpg</td>\n",
              "      <td>False</td>\n",
              "      <td>False</td>\n",
              "      <td>0</td>\n",
              "    </tr>\n",
              "    <tr>\n",
              "      <th>4995</th>\n",
              "      <td>25801526428363.jpg</td>\n",
              "      <td>47928524608159.jpg</td>\n",
              "      <td>False</td>\n",
              "      <td>False</td>\n",
              "      <td>0</td>\n",
              "    </tr>\n",
              "    <tr>\n",
              "      <th>4996</th>\n",
              "      <td>85942797925866.jpg</td>\n",
              "      <td>46795501393497.jpg</td>\n",
              "      <td>False</td>\n",
              "      <td>False</td>\n",
              "      <td>0</td>\n",
              "    </tr>\n",
              "  </tbody>\n",
              "</table>\n",
              "<p>4997 rows × 5 columns</p>\n",
              "</div>"
            ],
            "text/plain": [
              "                  image1              image2   pred  pred2  ttyl\n",
              "0     84770376235978.jpg  70098827925517.jpg  False  False     0\n",
              "1     51285551988172.jpg  40352160634341.jpg  False  False     0\n",
              "2     92104157409800.jpg  43993355472481.jpg   True   True     0\n",
              "3     17278801258247.jpg  39952763632406.jpg  False  False     0\n",
              "4     69669552075188.jpg  11563244873988.jpg  False  False     0\n",
              "...                  ...                 ...    ...    ...   ...\n",
              "4992  30470682361984.jpg  31915544799803.jpg   True  False     1\n",
              "4993  38633214403572.jpg  17760910482671.jpg  False  False     0\n",
              "4994  66870453878736.jpg  76054148475027.jpg  False  False     0\n",
              "4995  25801526428363.jpg  47928524608159.jpg  False  False     0\n",
              "4996  85942797925866.jpg  46795501393497.jpg  False  False     0\n",
              "\n",
              "[4997 rows x 5 columns]"
            ]
          },
          "metadata": {},
          "execution_count": 67
        }
      ]
    },
    {
      "cell_type": "code",
      "metadata": {
        "colab": {
          "base_uri": "https://localhost:8080/"
        },
        "id": "ZMIY4o7ba_-g",
        "outputId": "3115c85f-37c4-43cc-d488-3a4bcd509111"
      },
      "source": [
        "df['ttyl'].sum()"
      ],
      "execution_count": 68,
      "outputs": [
        {
          "output_type": "execute_result",
          "data": {
            "text/plain": [
              "237"
            ]
          },
          "metadata": {},
          "execution_count": 68
        }
      ]
    },
    {
      "cell_type": "code",
      "metadata": {
        "colab": {
          "base_uri": "https://localhost:8080/",
          "height": 419
        },
        "id": "2w02h0WJP5Tg",
        "outputId": "a6cb106b-cf00-4132-e72a-67e6dd11ed22"
      },
      "source": [
        "ds = df.drop(['pred2','ttyl'],axis =1)\n",
        "ds['pred'] = ds['pred'].astype('int')\n",
        "ds.rename(columns = {'pred':'label_pred'}, inplace = True)\n",
        "ds"
      ],
      "execution_count": 69,
      "outputs": [
        {
          "output_type": "execute_result",
          "data": {
            "text/html": [
              "<div>\n",
              "<style scoped>\n",
              "    .dataframe tbody tr th:only-of-type {\n",
              "        vertical-align: middle;\n",
              "    }\n",
              "\n",
              "    .dataframe tbody tr th {\n",
              "        vertical-align: top;\n",
              "    }\n",
              "\n",
              "    .dataframe thead th {\n",
              "        text-align: right;\n",
              "    }\n",
              "</style>\n",
              "<table border=\"1\" class=\"dataframe\">\n",
              "  <thead>\n",
              "    <tr style=\"text-align: right;\">\n",
              "      <th></th>\n",
              "      <th>image1</th>\n",
              "      <th>image2</th>\n",
              "      <th>label_pred</th>\n",
              "    </tr>\n",
              "  </thead>\n",
              "  <tbody>\n",
              "    <tr>\n",
              "      <th>0</th>\n",
              "      <td>84770376235978.jpg</td>\n",
              "      <td>70098827925517.jpg</td>\n",
              "      <td>0</td>\n",
              "    </tr>\n",
              "    <tr>\n",
              "      <th>1</th>\n",
              "      <td>51285551988172.jpg</td>\n",
              "      <td>40352160634341.jpg</td>\n",
              "      <td>0</td>\n",
              "    </tr>\n",
              "    <tr>\n",
              "      <th>2</th>\n",
              "      <td>92104157409800.jpg</td>\n",
              "      <td>43993355472481.jpg</td>\n",
              "      <td>1</td>\n",
              "    </tr>\n",
              "    <tr>\n",
              "      <th>3</th>\n",
              "      <td>17278801258247.jpg</td>\n",
              "      <td>39952763632406.jpg</td>\n",
              "      <td>0</td>\n",
              "    </tr>\n",
              "    <tr>\n",
              "      <th>4</th>\n",
              "      <td>69669552075188.jpg</td>\n",
              "      <td>11563244873988.jpg</td>\n",
              "      <td>0</td>\n",
              "    </tr>\n",
              "    <tr>\n",
              "      <th>...</th>\n",
              "      <td>...</td>\n",
              "      <td>...</td>\n",
              "      <td>...</td>\n",
              "    </tr>\n",
              "    <tr>\n",
              "      <th>4992</th>\n",
              "      <td>30470682361984.jpg</td>\n",
              "      <td>31915544799803.jpg</td>\n",
              "      <td>1</td>\n",
              "    </tr>\n",
              "    <tr>\n",
              "      <th>4993</th>\n",
              "      <td>38633214403572.jpg</td>\n",
              "      <td>17760910482671.jpg</td>\n",
              "      <td>0</td>\n",
              "    </tr>\n",
              "    <tr>\n",
              "      <th>4994</th>\n",
              "      <td>66870453878736.jpg</td>\n",
              "      <td>76054148475027.jpg</td>\n",
              "      <td>0</td>\n",
              "    </tr>\n",
              "    <tr>\n",
              "      <th>4995</th>\n",
              "      <td>25801526428363.jpg</td>\n",
              "      <td>47928524608159.jpg</td>\n",
              "      <td>0</td>\n",
              "    </tr>\n",
              "    <tr>\n",
              "      <th>4996</th>\n",
              "      <td>85942797925866.jpg</td>\n",
              "      <td>46795501393497.jpg</td>\n",
              "      <td>0</td>\n",
              "    </tr>\n",
              "  </tbody>\n",
              "</table>\n",
              "<p>4997 rows × 3 columns</p>\n",
              "</div>"
            ],
            "text/plain": [
              "                  image1              image2  label_pred\n",
              "0     84770376235978.jpg  70098827925517.jpg           0\n",
              "1     51285551988172.jpg  40352160634341.jpg           0\n",
              "2     92104157409800.jpg  43993355472481.jpg           1\n",
              "3     17278801258247.jpg  39952763632406.jpg           0\n",
              "4     69669552075188.jpg  11563244873988.jpg           0\n",
              "...                  ...                 ...         ...\n",
              "4992  30470682361984.jpg  31915544799803.jpg           1\n",
              "4993  38633214403572.jpg  17760910482671.jpg           0\n",
              "4994  66870453878736.jpg  76054148475027.jpg           0\n",
              "4995  25801526428363.jpg  47928524608159.jpg           0\n",
              "4996  85942797925866.jpg  46795501393497.jpg           0\n",
              "\n",
              "[4997 rows x 3 columns]"
            ]
          },
          "metadata": {},
          "execution_count": 69
        }
      ]
    },
    {
      "cell_type": "code",
      "metadata": {
        "id": "YC4dqo-2R3nS"
      },
      "source": [
        "ds.to_csv('submission.csv',index=False)"
      ],
      "execution_count": 71,
      "outputs": []
    },
    {
      "cell_type": "code",
      "metadata": {
        "id": "R1fzwmPPHa10"
      },
      "source": [
        ""
      ],
      "execution_count": null,
      "outputs": []
    }
  ]
}